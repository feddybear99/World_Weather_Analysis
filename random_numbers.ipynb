{
 "cells": [
  {
   "cell_type": "code",
   "execution_count": 1,
   "id": "52dc0b0d",
   "metadata": {},
   "outputs": [],
   "source": [
    "# Import the random module.\n",
    "import random"
   ]
  },
  {
   "cell_type": "code",
   "execution_count": 2,
   "id": "cdb51b46",
   "metadata": {},
   "outputs": [
    {
     "data": {
      "text/plain": [
       "57"
      ]
     },
     "execution_count": 2,
     "metadata": {},
     "output_type": "execute_result"
    }
   ],
   "source": [
    "random.randint(-90, 90)"
   ]
  },
  {
   "cell_type": "code",
   "execution_count": 3,
   "id": "f6ddb26d",
   "metadata": {},
   "outputs": [
    {
     "data": {
      "text/plain": [
       "0.4029986572975408"
      ]
     },
     "execution_count": 3,
     "metadata": {},
     "output_type": "execute_result"
    }
   ],
   "source": [
    "random.random()"
   ]
  },
  {
   "cell_type": "code",
   "execution_count": 7,
   "id": "9c5a4e83",
   "metadata": {},
   "outputs": [
    {
     "data": {
      "text/plain": [
       "89.54952033330697"
      ]
     },
     "execution_count": 7,
     "metadata": {},
     "output_type": "execute_result"
    }
   ],
   "source": [
    "x = 1\n",
    "latitudes = []\n",
    "while x < 11:\n",
    "    random_lat = random.randint(-90, 89) + random.random()\n",
    "    latitudes.append(random_lat)\n",
    "    x += 1\n",
    "random_lat"
   ]
  },
  {
   "cell_type": "code",
   "execution_count": 8,
   "id": "d7002fb9",
   "metadata": {},
   "outputs": [
    {
     "data": {
      "text/plain": [
       "-90"
      ]
     },
     "execution_count": 8,
     "metadata": {},
     "output_type": "execute_result"
    }
   ],
   "source": [
    "random.randrange(-90, 90, step=3)"
   ]
  },
  {
   "cell_type": "code",
   "execution_count": 9,
   "id": "4d74dc0f",
   "metadata": {},
   "outputs": [
    {
     "data": {
      "text/plain": [
       "-19.4524038273497"
      ]
     },
     "execution_count": 9,
     "metadata": {},
     "output_type": "execute_result"
    }
   ],
   "source": [
    "random.uniform(-90, 90)"
   ]
  },
  {
   "cell_type": "code",
   "execution_count": 10,
   "id": "a0576304",
   "metadata": {},
   "outputs": [],
   "source": [
    "# Import the NumPy module.\n",
    "import numpy as np"
   ]
  },
  {
   "cell_type": "code",
   "execution_count": 11,
   "id": "b93da576",
   "metadata": {},
   "outputs": [
    {
     "data": {
      "text/plain": [
       "-63.38262308748023"
      ]
     },
     "execution_count": 11,
     "metadata": {},
     "output_type": "execute_result"
    }
   ],
   "source": [
    "np.random.uniform(-90.000, 90.000)"
   ]
  },
  {
   "cell_type": "code",
   "execution_count": 12,
   "id": "e64fef75",
   "metadata": {},
   "outputs": [
    {
     "data": {
      "text/plain": [
       "-40.31266809147091"
      ]
     },
     "execution_count": 12,
     "metadata": {},
     "output_type": "execute_result"
    }
   ],
   "source": [
    "#Another option\n",
    "np.random.uniform(low=-90, high=90)"
   ]
  },
  {
   "cell_type": "code",
   "execution_count": 13,
   "id": "35943001",
   "metadata": {},
   "outputs": [
    {
     "data": {
      "text/plain": [
       "array([-41.47554445,   7.67624071,  16.85461524,  32.24983901,\n",
       "       -85.55787007, -74.24870642,  84.02321986, -82.99812534,\n",
       "       -61.62593755, -51.25864266, -26.05221506, -36.95801031,\n",
       "        44.75553463,  -9.79470438, -78.85232134,  21.96609408,\n",
       "       -86.98934482,  75.61393297, -44.86211672, -80.12715278,\n",
       "        89.25579116,  84.8162811 ,  67.77061153,  69.56087174,\n",
       "        54.12108885, -65.17729332,   7.46055694,  10.38671586,\n",
       "        48.97466025,  34.74448212,  -4.857581  ,  87.70521096,\n",
       "       -78.64690511,  -8.02790548, -22.2464809 ,  36.50799244,\n",
       "       -57.90740389,  -6.91493131,  13.68129741, -46.02778425,\n",
       "       -14.4878412 ,  41.14322836,  -0.69766154,   8.39856206,\n",
       "        16.710292  , -30.45356979,  87.63937247,  61.63589636,\n",
       "        69.22195535,  53.36498231])"
      ]
     },
     "execution_count": 13,
     "metadata": {},
     "output_type": "execute_result"
    }
   ],
   "source": [
    "np.random.uniform(-90.000, 90.000, size=50)"
   ]
  },
  {
   "cell_type": "code",
   "execution_count": 14,
   "id": "10f468e2",
   "metadata": {},
   "outputs": [],
   "source": [
    "# Import timeit.\n",
    "import timeit"
   ]
  },
  {
   "cell_type": "code",
   "execution_count": 15,
   "id": "d08076eb",
   "metadata": {},
   "outputs": [
    {
     "name": "stdout",
     "output_type": "stream",
     "text": [
      "12.7 µs ± 28.3 ns per loop (mean ± std. dev. of 7 runs, 100,000 loops each)\n"
     ]
    }
   ],
   "source": [
    "%timeit np.random.uniform(-90.000, 90.000, size=1500)\n"
   ]
  },
  {
   "cell_type": "code",
   "execution_count": 16,
   "id": "35082251",
   "metadata": {},
   "outputs": [
    {
     "name": "stdout",
     "output_type": "stream",
     "text": [
      "1.22 ms ± 5.86 µs per loop (mean ± std. dev. of 7 runs, 1,000 loops each)\n"
     ]
    }
   ],
   "source": [
    "def latitudes(size):\n",
    "    latitudes = []\n",
    "    x = 0\n",
    "    while x < (size):\n",
    "        random_lat = random.randint(-90, 90) + random.random()\n",
    "        latitudes.append(random_lat)\n",
    "        x += 1\n",
    "    return latitudes\n",
    "# Call the function with 1500.\n",
    "%timeit latitudes(1500)"
   ]
  },
  {
   "cell_type": "code",
   "execution_count": null,
   "id": "81526cff",
   "metadata": {},
   "outputs": [],
   "source": []
  }
 ],
 "metadata": {
  "kernelspec": {
   "display_name": "PythonData",
   "language": "python",
   "name": "pythondata"
  },
  "language_info": {
   "codemirror_mode": {
    "name": "ipython",
    "version": 3
   },
   "file_extension": ".py",
   "mimetype": "text/x-python",
   "name": "python",
   "nbconvert_exporter": "python",
   "pygments_lexer": "ipython3",
   "version": "3.9.12"
  }
 },
 "nbformat": 4,
 "nbformat_minor": 5
}
